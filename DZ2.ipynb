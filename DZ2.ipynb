{
 "cells": [
  {
   "cell_type": "markdown",
   "id": "af091a43",
   "metadata": {},
   "source": [
    "# Код к ДЗ_2"
   ]
  },
  {
   "cell_type": "markdown",
   "id": "4b500bc4",
   "metadata": {},
   "source": [
    "## 1.3. Determine Data Mining Goals (Определение целей аналитики)\n",
    "###### Цель - получить модель, позволяющую прогнозировать качество различных сортов красных и белых вин \n",
    "###### в зависимости от их физико-химических характеристик"
   ]
  },
  {
   "cell_type": "markdown",
   "id": "fccff0ef",
   "metadata": {},
   "source": [
    "## 2.1.1. Импорт библиотек"
   ]
  },
  {
   "cell_type": "code",
   "execution_count": 18,
   "id": "8d927e6d",
   "metadata": {},
   "outputs": [
    {
     "name": "stdout",
     "output_type": "stream",
     "text": [
      "Active code page: 65001\n"
     ]
    }
   ],
   "source": [
    "#! chcp 65001"
   ]
  },
  {
   "cell_type": "code",
   "execution_count": 1,
   "id": "e79cc4a2",
   "metadata": {},
   "outputs": [
    {
     "name": "stderr",
     "output_type": "stream",
     "text": [
      "UsageError: Line magic function `%apt-get` not found.\n"
     ]
    }
   ],
   "source": [
    "!apt-get install dotenv"
   ]
  },
  {
   "cell_type": "markdown",
   "id": "18c23ca8",
   "metadata": {},
   "source": [
    "'apt-get' не распознается как внутренняя или внешняя команда,\n",
    "работающая программа или пакетный файл."
   ]
  },
  {
   "cell_type": "markdown",
   "id": "f7b7e436",
   "metadata": {},
   "source": [
    "Чтобы установить переменную env в записной книжке jupyter, просто используйте команды % magic, либо %env, либо %set_env, например, %env MY_VAR=MY_VALUE или %env MY_VAR MY_VALUE. (Используйте %env сам по себе для вывода текущих переменных окружения.) Смотрите: http://ipython.readthedocs.io/en/stable/interactive/magics.html"
   ]
  },
  {
   "cell_type": "code",
   "execution_count": 2,
   "id": "2696b0d2",
   "metadata": {},
   "outputs": [
    {
     "ename": "ModuleNotFoundError",
     "evalue": "No module named 'google'",
     "output_type": "error",
     "traceback": [
      "\u001b[1;31m---------------------------------------------------------------------------\u001b[0m",
      "\u001b[1;31mModuleNotFoundError\u001b[0m                       Traceback (most recent call last)",
      "\u001b[1;32mg:\\Data Science_материалы\\Менеджмент DS проектов\\wine\\notebook\\DZ2.ipynb Ячейка 8\u001b[0m line \u001b[0;36m1\n\u001b[0;32m      <a href='vscode-notebook-cell:/g%3A/Data%20Science_%D0%BC%D0%B0%D1%82%D0%B5%D1%80%D0%B8%D0%B0%D0%BB%D1%8B/%D0%9C%D0%B5%D0%BD%D0%B5%D0%B4%D0%B6%D0%BC%D0%B5%D0%BD%D1%82%20DS%20%D0%BF%D1%80%D0%BE%D0%B5%D0%BA%D1%82%D0%BE%D0%B2/wine/notebook/DZ2.ipynb#X10sZmlsZQ%3D%3D?line=7'>8</a>\u001b[0m \u001b[39mimport\u001b[39;00m \u001b[39mos\u001b[39;00m\n\u001b[0;32m      <a href='vscode-notebook-cell:/g%3A/Data%20Science_%D0%BC%D0%B0%D1%82%D0%B5%D1%80%D0%B8%D0%B0%D0%BB%D1%8B/%D0%9C%D0%B5%D0%BD%D0%B5%D0%B4%D0%B6%D0%BC%D0%B5%D0%BD%D1%82%20DS%20%D0%BF%D1%80%D0%BE%D0%B5%D0%BA%D1%82%D0%BE%D0%B2/wine/notebook/DZ2.ipynb#X10sZmlsZQ%3D%3D?line=8'>9</a>\u001b[0m \u001b[39mfrom\u001b[39;00m \u001b[39mpathlib\u001b[39;00m \u001b[39mimport\u001b[39;00m Path\n\u001b[1;32m---> <a href='vscode-notebook-cell:/g%3A/Data%20Science_%D0%BC%D0%B0%D1%82%D0%B5%D1%80%D0%B8%D0%B0%D0%BB%D1%8B/%D0%9C%D0%B5%D0%BD%D0%B5%D0%B4%D0%B6%D0%BC%D0%B5%D0%BD%D1%82%20DS%20%D0%BF%D1%80%D0%BE%D0%B5%D0%BA%D1%82%D0%BE%D0%B2/wine/notebook/DZ2.ipynb#X10sZmlsZQ%3D%3D?line=9'>10</a>\u001b[0m \u001b[39mfrom\u001b[39;00m \u001b[39mgoogle\u001b[39;00m\u001b[39m.\u001b[39;00m\u001b[39mcolab\u001b[39;00m \u001b[39mimport\u001b[39;00m files\n\u001b[0;32m     <a href='vscode-notebook-cell:/g%3A/Data%20Science_%D0%BC%D0%B0%D1%82%D0%B5%D1%80%D0%B8%D0%B0%D0%BB%D1%8B/%D0%9C%D0%B5%D0%BD%D0%B5%D0%B4%D0%B6%D0%BC%D0%B5%D0%BD%D1%82%20DS%20%D0%BF%D1%80%D0%BE%D0%B5%D0%BA%D1%82%D0%BE%D0%B2/wine/notebook/DZ2.ipynb#X10sZmlsZQ%3D%3D?line=10'>11</a>\u001b[0m \u001b[39mfrom\u001b[39;00m \u001b[39mzipfile\u001b[39;00m \u001b[39mimport\u001b[39;00m ZipFile  \u001b[39m# unzippung dataset\u001b[39;00m\n\u001b[0;32m     <a href='vscode-notebook-cell:/g%3A/Data%20Science_%D0%BC%D0%B0%D1%82%D0%B5%D1%80%D0%B8%D0%B0%D0%BB%D1%8B/%D0%9C%D0%B5%D0%BD%D0%B5%D0%B4%D0%B6%D0%BC%D0%B5%D0%BD%D1%82%20DS%20%D0%BF%D1%80%D0%BE%D0%B5%D0%BA%D1%82%D0%BE%D0%B2/wine/notebook/DZ2.ipynb#X10sZmlsZQ%3D%3D?line=11'>12</a>\u001b[0m \u001b[39m# Modelling algorithms\u001b[39;00m\n",
      "\u001b[1;31mModuleNotFoundError\u001b[0m: No module named 'google'"
     ]
    }
   ],
   "source": [
    "# ignore warnings\n",
    "import warnings\n",
    "warnings.filterwarnings('ignore')\n",
    "import json\n",
    "import numpy as np # linear algebra\n",
    "from numpy.random import seed\n",
    "import pandas as pd # data processing, CSV file I/O (e.g. pd.read_csv)\n",
    "import os\n",
    "from pathlib import Path\n",
    "#from google.colab import files\n",
    "from zipfile import ZipFile  # unzippung dataset\n",
    "# Modelling algorithms\n",
    "from sklearn.model_selection import train_test_split\n",
    "from sklearn.ensemble import RandomForestClassifier\n",
    "from sklearn.model_selection import KFold, StratifiedKFold\n",
    "from sklearn.model_selection import cross_val_score, cross_validate\n",
    "from sklearn import linear_model\n",
    "from sklearn.metrics import mean_squared_error, mean_absolute_error,r2_score\n",
    "from sklearn.metrics import classification_report\n",
    "from sklearn.metrics import ConfusionMatrixDisplay, confusion_matrix\n",
    "from sklearn import model_selection, metrics\n",
    "#import tensorflow as tf\n",
    "#from tensorflow.keras.models import Model\n",
    "#from tensorflow.keras.layers import Dense, Input\n",
    "#from tensorflow.python.keras.utils.vis_utils import plot_model\n",
    "import pydot\n",
    "\n",
    "# Modelling helpers\n",
    "from imblearn.over_sampling import SMOTE\n",
    "from sklearn.pipeline import Pipeline\n",
    "from sklearn.preprocessing import StandardScaler # библиотека для нормализации номинальных признаков\n",
    "from sklearn.preprocessing import Normalizer\n",
    "from sklearn.preprocessing import MinMaxScaler\n",
    "from sklearn.preprocessing import MaxAbsScaler\n",
    "from sklearn.preprocessing import RobustScaler\n",
    "from sklearn.preprocessing import QuantileTransformer\n",
    "from sklearn.preprocessing import PowerTransformer\n",
    "from sklearn.preprocessing import OneHotEncoder\n",
    "from sklearn.compose import ColumnTransformer\n",
    "# from sklearn.feature_selection import SelectPercentile, chi2\n",
    "from sklearn.feature_selection import RFECV\n",
    "import scipy as sp\n",
    "from scipy import stats as st # При работе со статистикой\n",
    "from scipy.stats import shapiro\n",
    "from scipy.stats import skew, norm, probplot, boxcox, f_oneway\n",
    "# Visualization\n",
    "import matplotlib as mpl\n",
    "import matplotlib.pyplot as plt\n",
    "import matplotlib.pylab as pylab\n",
    "import seaborn as sns\n",
    "from statsmodels.graphics.gofplots import qqplot\n",
    "# Configure visualization\n",
    "%matplotlib inline\n",
    "mpl.style.use('ggplot')\n",
    "sns.set_style('white')\n",
    "pylab.rcParams['figure.figsize'] = 8, 6"
   ]
  },
  {
   "cell_type": "markdown",
   "id": "078e452a",
   "metadata": {},
   "source": [
    "## 2.1.2. Пользовательские функции"
   ]
  },
  {
   "cell_type": "code",
   "execution_count": null,
   "id": "02e0f732",
   "metadata": {},
   "outputs": [],
   "source": [
    "from IPython.core.display_trap import DisplayTrap\n",
    "# User functions for visualisation\n",
    "def plot_histograms(df: pd.DataFrame, variables: list, n_rows: int, n_cols: int) -> None:\n",
    "  \"\"\"Построение гистограмм признаков\n",
    "  \"\"\"\n",
    "  fig = plt.figure(16, 12)\n",
    "  for i, var_name in enumerate(variables):\n",
    "    ax = fig.add_subplot(n_rows, n_cols, i + 1)\n",
    "    df[var_name].hist(bins=10, ax=ax)\n",
    "    ax.set_title(\"Skew:\" + str(round(float(df[var_name].skew()),))) # Distribution of df[var_name]\n",
    "    ax.set_xticklabels([], visible=False)\n",
    "    ax.set_yticklabels([], visible=False)\n",
    "  fig.tight_layout()\n",
    "  plt.show()\n",
    "\n",
    "def plot_distribution(df: pd.DataFrame, var: list, target: list, **kwargs) -> None:\n",
    "  \"\"\"Построение распределений признаков\"\"\"\n",
    "  row = kwargs.get('row', None)\n",
    "  col = kwargs.get('col', None)\n",
    "  facet = sns.FacetGrid(df, hue=target, aspect=4, row=row, col=col)\n",
    "  facet.map(sns.kdeplot, var, shade=True)\n",
    "  facet.set(xlim=(0, df[var].max()))\n",
    "  facet.add_legend()\n",
    "\n",
    "def plot_categories(df: pd.DataFrame, cat: list, target: list, **kwargs) -> None:\n",
    "  \"\"\"Построение барплота для категориальных признаков\"\"\"\n",
    "  row = kwargs.get('row', None)\n",
    "  col = kwargs.get('col', None)\n",
    "  facet = sns.FacetGrid(df, row=row, col=col)\n",
    "  facet.map(sns.barplot, cat, target)\n",
    "  facet.add_legend()\n",
    "\n",
    "def plot_correlation_map(df: pd.DataFrame) -> None:\n",
    "  \"\"\"построение тепловой карты\"\"\"\n",
    "  corr = df.corr()\n",
    "  _, ax = plt.subplots(figsize=(12, 10))\n",
    "  cmap = sns.diverging_palette(220, 10, as_cmap=True)\n",
    "  _ = sns.heatmap(corr, cmap=cmap, square=True, cbar_kws={'shrink': .9},\n",
    "                  ax=ax, annot=True, annot_kws={'fontsize':12})\n",
    "\n",
    "def plot_bar(df:pd.DataFrame, var: str, title: str, axes_titles: list, x_label_title:str,\n",
    "             y_label_title: str, colors: list) -> None:\n",
    "\n",
    "  fig = plt.figure(figsize = (8, 4))\n",
    "  title = fig.suptitle(title, fontsize=14)\n",
    "  fig.subplots_adjust(top=0.85, wspace=0.3)\n",
    "  n_cols = len(axes_titles)\n",
    "  vars = df['type'].unique()\n",
    "  for i, var_name in enumerate(axes_titles):\n",
    "    ax = fig.add_subplot(1, n_cols, i + 1)\n",
    "    ax.set_title(var_name)\n",
    "    ax.set_xlabel(x_label_title)\n",
    "    ax.set_ylabel(y_label_title)\n",
    "    rw_q = df[var][df.type == vars[i]].value_counts()\n",
    "    rw_q = (list(rw_q.index), list(rw_q.values))\n",
    "    ax.set_ylim([0, 2500])\n",
    "    ax.tick_params(axis='both', which='major', labelsize=8.5)\n",
    "    bar = ax.bar(rw_q[0], rw_q[1], color=colors[i], edgecolor='black', linewidth=1)\n",
    "\n",
    "def draw_plot(X, names, type):\n",
    "  \"\"\"\n",
    "  служебная функция для визуализации распределения признаков,\n",
    "  построения боксплотов и графиков квантиль - квантиль.\n",
    "  помогает визуально оценить нормальность распределения и\n",
    "  наличие выбросов\n",
    "  \"\"\"\n",
    "  n= len(names)\n",
    "  seed(1)\n",
    "  f, ax = plt.subplots(nrows=1, ncols=n, figsize=(22,2))\n",
    "  i=0\n",
    "  for key, value in names.items():\n",
    "    if type == 'distplot':\n",
    "      distplot = sns.distplot(x=X[key],  ax=ax[i])\n",
    "      distplot.set_xlabel('', fontsize=8)\n",
    "      distplot.set_ylabel('', fontsize=8)\n",
    "    elif type == 'boxplot':\n",
    "      boxplot = sns.boxplot(x=X[key],  ax=ax[i])\n",
    "      boxplot.set_xlabel('', fontsize=8)\n",
    "      boxplot.set_ylabel('', fontsize=8)\n",
    "    elif type == 'qqplot':\n",
    "       qq = qqplot(data=X[key], line='s', ax=ax[i])\n",
    "\n",
    "    elif type == 'lineplot':\n",
    "      lineplot = sns.lineplot(x=X[key], palette=\"tab10\", linewidth=2.5, ax=ax[i])\n",
    "      lineplot.set_xlabel('', fontsize=8)\n",
    "      lineplot.set_ylabel('', fontsize=8)\n",
    "    else:\n",
    "      pass\n",
    "    ax[i].set_title(value, fontsize=8)\n",
    "    ax[i].minorticks_on()\n",
    "\n",
    "    #  Определяем внешний вид линий основной сетки:\n",
    "    ax[i].grid(which='major',\n",
    "        color = 'r',\n",
    "        linestyle = '-')\n",
    "\n",
    "    #  Определяем внешний вид линий вспомогательной\n",
    "    #  сетки:\n",
    "    ax[i].grid(which='minor',\n",
    "        color = 'k',\n",
    "        linestyle = ':')\n",
    "\n",
    "    i+=1\n",
    "\n",
    "def get_transform(X, num_features):\n",
    "  \"\"\"\n",
    "  Служебная функция для визуализации распределения числовых признаков\n",
    "  после различной трансформации\n",
    "  \"\"\"\n",
    "  for feature in num_features:\n",
    "\n",
    "    X_tmp=X[feature]\n",
    "\n",
    "    distributions = [\n",
    "        (f\"{feature}: Unscaled data\", X_tmp),\\\n",
    "        (f\"{feature}: standard\",\n",
    "        StandardScaler().fit_transform(X_tmp.to_numpy().reshape(-1,1))),\n",
    "\n",
    "        (f\"{feature}: min-max\", \\\n",
    "        MinMaxScaler().fit_transform(X_tmp.to_numpy().reshape(-1,1))),\n",
    "\n",
    "        (f\"{feature}: max-abs\", \\\n",
    "        MaxAbsScaler().fit_transform(X_tmp.to_numpy().reshape(-1,1))),\n",
    "\n",
    "        (f\"{feature}: robust\", \\\n",
    "        RobustScaler(quantile_range=(25, 75)).fit_transform(X_tmp.to_numpy().reshape(-1,1))),\n",
    "\n",
    "        (f\"{feature}: power tr. (Yeo-Johnson)\", \\\n",
    "        PowerTransformer(method=\"yeo-johnson\").fit_transform(X_tmp.to_numpy().reshape(-1,1))),\n",
    "\n",
    "        (f\"{feature}: quantile tr.uniform\",\n",
    "            QuantileTransformer(output_distribution=\"uniform\").fit_transform(X_tmp.to_numpy().reshape(-1,1)),\n",
    "        ),\n",
    "        (f\"{feature}: quantile tr. gaussian\",\n",
    "            QuantileTransformer(output_distribution=\"normal\").fit_transform(X_tmp.to_numpy().reshape(-1,1)),\n",
    "        ),\n",
    "        (f\"{feature}: L2 normalizing\", Normalizer().fit_transform(X_tmp.to_numpy().reshape(-1,1))),\n",
    "    ]\n",
    "    dist_dict={}\n",
    "    for item in distributions:\n",
    "      dist_dict[item[0]]=item[0]\n",
    "\n",
    "    transform_results = pd.DataFrame(list(zip(\n",
    "                                              distributions[0][1],\n",
    "                                              distributions[1][1],\n",
    "                                              distributions[2][1],\n",
    "                                              distributions[3][1],\n",
    "                                              distributions[4][1],\n",
    "                                              distributions[5][1],\n",
    "                                              distributions[6][1],\n",
    "                                              distributions[7][1],\n",
    "                                              distributions[8][1],\n",
    "\n",
    "                                        )),\n",
    "                                    columns = [\n",
    "                      distributions[0][0],\n",
    "                      distributions[1][0],\n",
    "                      distributions[2][0],\n",
    "                      distributions[3][0],\n",
    "                      distributions[4][0],\n",
    "                      distributions[5][0],\n",
    "                      distributions[6][0],\n",
    "                      distributions[7][0],\n",
    "                      distributions[8][0],\n",
    "\n",
    "\n",
    "                                            ])\n",
    "  # визуализация распределения признака  после  трансформации\n",
    "    draw_plot(transform_results, dist_dict, 'distplot')\n",
    "\n",
    "\n",
    "\n",
    "# User functions for inference statistcs\n",
    "\n",
    "def type_inf_stat_test(feature, df):\n",
    "    F, p = f_oneway(df[df.type == 'red'][feature],\n",
    "                    df[df.type == 'white'][feature])\n",
    "    if p <= 0.05:\n",
    "        msg = 'Reject'\n",
    "    else:\n",
    "        msg = 'Accept'\n",
    "    print('{}: F Statistic: {:.2f} \\tp-value: {:.3f} \\tNull Hypothesis: {}'.format(feature, F, p, msg))\n",
    "\n",
    "def quality_inf_stat_test(feature, df):\n",
    "    F, p = f_oneway(df[df.quality_label == 'low'][feature],\n",
    "                    df[df.quality_label == 'medium'][feature],\n",
    "                    df[df.quality_label == 'high'][feature])\n",
    "    if p <= 0.05:\n",
    "        msg = 'Reject'\n",
    "    else:\n",
    "        msg = 'Accept'\n",
    "    print('{}: F Statistic: {:.2f} \\tp-value: {:.3f} \\tNull Hypothesis: {}'.format(feature,F, p, msg))\n",
    "\n",
    "\n",
    "def shapiro_test(df, names):\n",
    "    \"\"\"\n",
    "    Служебная функция для вывода информации по тесту Шапиро-Уилкса\n",
    "    \"\"\"\n",
    "    for name in names:\n",
    "        stat, p = shapiro(df[name])\n",
    "        print(name)\n",
    "        print('Statistics=%.3f, p=%.3f' % (stat, p))\n",
    "        alpha = 0.05\n",
    "        if p > alpha:\n",
    "            print('Предположительно нормальное распределение (Недостаточно данных, чтобы отвергнуть H0)')\n",
    "        else:\n",
    "            print('Отвергаем H0 о нормальности распределения')\n",
    "        print()\n",
    "\n",
    "def describe_more(df: pd.DataFrame) -> None:\n",
    "  \"\"\" \"\"\"\n",
    "  var = []\n",
    "  l = []\n",
    "  t = []\n",
    "  for x in df:\n",
    "    var.append(x)\n",
    "    l.append(len(pd.value_counts(df[x])))\n",
    "    t.append(df[x].dtypes)\n",
    "    levels = pd.DataFrame({'Variable': var, 'Levels': l, 'Datatype': t})\n",
    "    levels.sort_values(by='Levels', inplace=True)\n",
    "\n",
    "def plot_model_var_imp(model, X, y) -> None:\n",
    "  \"\"\"Сортировка признаков по важности\"\"\"\n",
    "  imp = pd.DataFrame(model.feature_importances_,\n",
    "                     columns=['Importance'],\n",
    "                     index=X.columns)\n",
    "  imp = imp.sort_values(['Importance'], ascending=True)\n",
    "  imp[:10].plot(kind='barh')\n",
    "  print(model.score(X,y))\n",
    "\n",
    "def sigma_3(tmp,names, percent):\n",
    "  \"\"\"\n",
    "  Служебная функция для поиска выбросов признака по правилу 3 сигм\n",
    "  при нормальном или близком к ноормальному распределению\n",
    "  tmp - датасет\n",
    "  names - названия признаков\n",
    "  percent - допустимый процент выбросов\n",
    "  Возвращает % выбросов и их индексы\n",
    "  \"\"\"\n",
    "  outliner_results=[]\n",
    "\n",
    "  for name in names:\n",
    "    start_len = tmp.shape[0]\n",
    "    result=dict()\n",
    "    indices=[]\n",
    "    std = tmp[name].std()\n",
    "    mean = tmp[name].mean()\n",
    "    left_board = mean - 3 * std\n",
    "    right_board  = mean + 3 * std\n",
    "    indices = tmp.loc[(tmp[name]<=left_board) | (tmp[name]>=right_board)].index.to_list()   # Это выбросы\n",
    "    share = len(indices)/start_len*100\n",
    "    # result['feature']=name\n",
    "    result['indices']=indices\n",
    "    # result['share'] = share\n",
    "    outliner_results.append(result)\n",
    "\n",
    "  indices = set()\n",
    "  for item in outliner_results:\n",
    "    indices = indices.union(item['indices']) # объединяем выбросы по всем признакам\n",
    "  share = (len(indices))/start_len * 100\n",
    "  # возвращает % выбросов, множество индексов выбросов\n",
    "\n",
    "  return share, indices\n",
    "\n",
    "def interquartile_range(tmp,names,percent):\n",
    "  \"\"\"\n",
    "  Служебная функция для поиска выбросов признака по межквартильному размаху IQR\n",
    "  при нормальном или близком к ноормальному распределению\n",
    "  tmp - датасет\n",
    "  names - названия признаков\n",
    "  percent - допустимый процент выбросов\n",
    "  Возвращает % выбросов и их индексы\n",
    "  \"\"\"\n",
    "  outliner_results=[]\n",
    "  start_len = len(tmp)\n",
    "\n",
    "  for name in names:\n",
    "    result=dict()\n",
    "    q1 = tmp[name].quantile(0.25)\n",
    "    q3 = tmp[name].quantile(0.75)\n",
    "    iqr = q3 - q1\n",
    "    lower_bound = q1 - (1.5 * iqr)\n",
    "    upper_bound = q3 + (1.5 * iqr)\n",
    "\n",
    "    indices = tmp.loc[(tmp[name]<=lower_bound) | (tmp[name]>=upper_bound)].index.to_list()\n",
    "    share = len(indices)/start_len*100\n",
    "    # result['feature']=name\n",
    "    result['indices']=indices\n",
    "    # result['share'] = share\n",
    "    outliner_results.append(result)\n",
    "\n",
    "  indices = set()\n",
    "  for item in outliner_results:\n",
    "    indices = indices.union(item['indices'])\n",
    "  share = (len(indices))/start_len * 100\n",
    "\n",
    "  return share, indices\n",
    "\n",
    "def percentile_range(tmp,names,percent):\n",
    "  \"\"\"\n",
    "  Служебная функция для поиска выбросов признака за пределами диапазона\n",
    "  процентилей (0.5, 99.5)\n",
    "    tmp - датасет\n",
    "  names - названия признаков\n",
    "  percent - допустимый процент выбросов\n",
    "  Возвращает % выбросов и их индексы\n",
    "  \"\"\"\n",
    "  outliner_results=[]\n",
    "  start_len = len(tmp)\n",
    "\n",
    "  for name in names:\n",
    "    result=dict()\n",
    "    lower_limit, upper_limit = np.percentile(a=tmp[name], q=[0.5, 99.5])\n",
    "\n",
    "    indices = tmp.loc[(tmp[name]<=lower_limit) | (tmp[name]>=upper_limit)].index.to_list()\n",
    "    share = len(indices)/start_len*100\n",
    "    # result['feature']=name\n",
    "    result['indices']=indices\n",
    "    # result['share'] = share\n",
    "    outliner_results.append(result)\n",
    "\n",
    "  indices = set()\n",
    "  for item in outliner_results:\n",
    "    indices = indices.union(item['indices'])\n",
    "  share = (len(indices))/start_len * 100\n",
    "\n",
    "  return share, indices\n",
    "\n",
    "def mahalanobis(x= None , data= None , cov= None ):\n",
    "  \"\"\"\n",
    "  Функция для расчета расстояния Maхаланобиса\n",
    "  Расстояние Махаланобиса — это расстояние между двумя точками в\n",
    "  многомерном пространстве. Оно часто используется для поиска выбросов\n",
    "  в статистическом анализе, включающем несколько переменных\n",
    "  https://ru.wikipedia.org/wiki/%D0%A0%D0%B0%D1%81%D1%81%D1%82%D0%BE%D1%8F%D0%BD%D0%B8%D0%B5_%D0%9C%D0%B0%D1%85%D0%B0%D0%BB%D0%B0%D0%BD%D0%BE%D0%B1%D0%B8%D1%81%D0%B0\n",
    "  \"\"\"\n",
    "  x_mu = x - np.mean(data)\n",
    "  if not cov:\n",
    "    cov = np.cov(data.values.T)\n",
    "    inv_covmat = np.linalg.inv(cov)\n",
    "    left = np.dot(x_mu, inv_covmat)\n",
    "    mahal = np.dot(left, x_mu.T)\n",
    "  return mahal.diagonal()\n",
    "\n",
    "\n",
    "def make_login():\n",
    "  load_dotenv(\"/content/.env\")\n",
    "  settings = Settings()\n",
    "  user_name = settings.USERNAME\n",
    "  key = settings.KEY\n",
    "  # создаем словарь с данными для файла kaggle.json\n",
    "  kaggle_info = {\n",
    "      \"username\": user_name,\n",
    "      \"key\": key}\n",
    "\n",
    "  # преобразуем словарь в строку JSON\n",
    "  json_info = json.dumps(kaggle_info)\n",
    "\n",
    "  # создаем файл kaggle.json и записываем в него строку JSON\n",
    "  with open(os.path.expanduser(\"~/.kaggle/kaggle.json\"), \"w\") as f:\n",
    "      f.write(json_info)\n",
    "\n",
    "\n",
    "def make_dataset(file_path: str, zip_name: str, file_name: str) -> pd.DataFrame:\n",
    "  \"\"\"Функция для скачивания и распаковки датасета с kaggle\n",
    "  \"\"\"\n",
    "  # Загрузка файла аутентификации\n",
    "  import kaggle\n",
    "  kaggle.api.authenticate()\n",
    "\n",
    "  # Установка пути для загрузки данных\n",
    "  data_path = os.path.join(os.getcwd(), 'data')\n",
    "  os.makedirs(data_path, exist_ok=True)\n",
    "\n",
    "  # Скачивание данных по ссылке\n",
    "  kaggle.api.dataset_download_files(file_path, path=data_path)\n",
    "  with ZipFile(zip_name, 'r') as zip_file:  # Распаковываем архив в сессионное хранилище в папку archiv.\n",
    "     zip_file.extractall(data_path)\n",
    "  df = pd.read_csv(Path(data_path,file_name))\n",
    "  return df\n",
    "\n",
    "\n",
    "def clean_data(df: pd.DataFrame) -> pd.DataFrame:\n",
    "  \"\"\"Удаление пропусков, удаление дубликатов\n",
    "  Args: df: pd.DataFrame\n",
    "  Return: df: pd.DataFrame\"\"\"\n",
    "  d = df[(pd.isnull(df['fixed acidity'])|\n",
    "        pd.isnull(df['pH'])|\n",
    "        pd.isnull(df['volatile acidity'])|\n",
    "        pd.isnull(df['sulphates'])|\n",
    "        pd.isnull(df['citric acid'])|\n",
    "        pd.isnull(df['residual sugar'])|\n",
    "        pd.isnull(df['chlorides']))\n",
    "        ]\n",
    "  if len(d)/df.shape[0]*100 <5:\n",
    "    df = df[~(pd.isnull(df['fixed acidity'])|\n",
    "        pd.isnull(df['pH'])|\n",
    "        pd.isnull(df['volatile acidity'])|\n",
    "        pd.isnull(df['sulphates'])|\n",
    "        pd.isnull(df['citric acid'])|\n",
    "        pd.isnull(df['residual sugar'])|\n",
    "        pd.isnull(df['chlorides']))\n",
    "        ]\n",
    "    df.drop_duplicates(inplace=True)\n",
    "    return df\n",
    "\n",
    "def train_model(df: pd.DataFrame, random_seed: int,  model):\n",
    "  \"\"\"\n",
    "  Служебная функция. выполняет:\n",
    "    - разделение на Train и test\n",
    "    - обучение модели\n",
    "    df- датафрейм, random_seed - фиксатор генератора случ.чисел,\n",
    "    model - модель классификатора,\n",
    "  \"\"\"\n",
    "\n",
    "\n",
    "  X = df.drop(columns=['type'])\n",
    "  y = df['type']\n",
    "  X_train, X_test, y_train, y_test = train_test_split(X, y, test_size=0.2, random_state=random_seed)\n",
    "\n",
    "  rf = model\n",
    "  rf.fit(X_train, y_train)\n",
    "\n",
    "  return X,y, X_test, y_test, rf\n",
    "\n",
    "\n",
    "  def get_labels(data: pd.DataFrame) -> tuple:\n",
    "    \"\"\" Получение из общего датасета меток type и quality\"\"\"\n",
    "    type_wine = data.pop('type')\n",
    "    type_wine = np.array(type_wine)\n",
    "    quality = data.pop('quality')\n",
    "    quality = np.array(quality)\n",
    "    return (quality, type_wine)\n",
    "\n",
    "\n",
    "def make_model() :\n",
    "  # Строим модель CNN нейросети с двумя выходами\n",
    "  # Вход - по числу признаков\n",
    "  inputs = tf.keras.layers.Input(shape=(11,))\n",
    "  # Полносвязные слои для созлания нелинейности\n",
    "  x = Dense(units=32, activation='relu')(inputs)\n",
    "  x = Dense(units=32, activation='relu')(x)\n",
    "\n",
    "  # Выход для определения типа вина (бинарная классификация)\n",
    "  y_t_layer = Dense(units = 1, activation='sigmoid', name='y_t_layer')(x)\n",
    "\n",
    "  #Еще один полносвязный уровень для последующего добавления выхода по качеству (x)\n",
    "  quality_layer=Dense(units=64, name='quality_layer', activation='relu')(x)\n",
    "\n",
    "  # Выход для опеделения качества (регрессия)\n",
    "  y_q_layer = Dense(units=1, name='y_q_layer')(quality_layer)\n",
    "\n",
    "  model = Model(inputs=inputs, outputs=[y_q_layer, y_t_layer])\n",
    "\n",
    "  optimizer = tf.keras.optimizers.Adam()\n",
    "\n",
    "  #Для каждого выхода - свои метрики и функции потерь\n",
    "\n",
    "  model.compile(optimizer=optimizer,\n",
    "                loss = {'y_t_layer' : 'binary_crossentropy',\n",
    "                        'y_q_layer' : 'mean_squared_error'\n",
    "                      },\n",
    "                metrics = {'y_t_layer' : 'accuracy',\n",
    "                          'y_q_layer': [tf.keras.metrics.RootMeanSquaredError(), tf.keras.metrics.MeanSquaredError(), tf.keras.metrics.MeanAbsoluteError()]\n",
    "                        }\n",
    "              )\n",
    "  return model\n",
    "\n",
    "\n",
    "def main():\n",
    "  random_seed = 42\n",
    "  results = dict()\n",
    "  df = make_dataset('rajyellow46/wine-quality', 'data/wine-quality.zip', 'winequalityN.csv')\n",
    "  df = clean_data(df)\n",
    "  data, data_reg = build_features(df)\n",
    "  rf = RandomForestClassifier(criterion='entropy',random_state=random_seed)\n",
    "  X, y, X_test, y_test, rf = train_model(data, random_seed, rf)\n",
    "  results['baseline'] = eval_model(X, y, X_test, y_test, random_seed, rf, flag=True)\n",
    "  model = make_model()"
   ]
  },
  {
   "cell_type": "markdown",
   "id": "1144bc88",
   "metadata": {},
   "source": [
    "## 2.1.3. Загрузка данных"
   ]
  },
  {
   "cell_type": "code",
   "execution_count": null,
   "id": "3b319ad8",
   "metadata": {},
   "outputs": [],
   "source": [
    "# kaggle installing\n",
    "!pip install -q kaggle"
   ]
  },
  {
   "cell_type": "code",
   "execution_count": null,
   "id": "2859c3fe",
   "metadata": {},
   "outputs": [],
   "source": [
    "# Load my kaggle.json data\n",
    "uploaded = files.upload()"
   ]
  },
  {
   "cell_type": "code",
   "execution_count": null,
   "id": "6a16ee39",
   "metadata": {},
   "outputs": [],
   "source": [
    "# make directory  .caggle to upload kaggle.json\n",
    "! mkdir ~/.kaggle"
   ]
  },
  {
   "cell_type": "code",
   "execution_count": null,
   "id": "e6770876",
   "metadata": {},
   "outputs": [],
   "source": [
    "# upload kaggle.json into this directory\n",
    "! cp kaggle.json ~/.kaggle/"
   ]
  },
  {
   "cell_type": "code",
   "execution_count": null,
   "id": "4ce13622",
   "metadata": {},
   "outputs": [],
   "source": [
    "# make kaggle.json secret\n",
    "! chmod 600 /root/.kaggle/kaggle.json"
   ]
  },
  {
   "cell_type": "code",
   "execution_count": null,
   "id": "6d468b38",
   "metadata": {},
   "outputs": [],
   "source": [
    "#This is my dataset to download\n",
    "!kaggle datasets download -d 'rajyellow46/wine-quality'"
   ]
  },
  {
   "cell_type": "code",
   "execution_count": null,
   "id": "9ee7738b",
   "metadata": {},
   "outputs": [],
   "source": [
    "with ZipFile('/content/wine-quality.zip', 'r') as zip_file:  # Распаковываем архив в сессионное хранилище в папку archiv.\n",
    "     zip_file.extractall()"
   ]
  },
  {
   "cell_type": "code",
   "execution_count": null,
   "id": "6468a31d",
   "metadata": {},
   "outputs": [],
   "source": [
    "df = pd.read_csv('/content/winequalityN.csv')"
   ]
  },
  {
   "cell_type": "code",
   "execution_count": null,
   "id": "cb03d505",
   "metadata": {},
   "outputs": [],
   "source": [
    "df.head()"
   ]
  },
  {
   "cell_type": "code",
   "execution_count": null,
   "id": "ae475d07",
   "metadata": {},
   "outputs": [],
   "source": [
    "## 2.2. Describе Data (Описание данных)"
   ]
  },
  {
   "cell_type": "markdown",
   "id": "9894cabb",
   "metadata": {},
   "source": [
    "### Информация о наборе данных:\n",
    "Набор данных был загружен из репозитория машинного обучения UCI.\n",
    "Два набора данных относятся к красному и белому вариантам португальского вина Винью Верде. Из соображений конфиденциальности и логистики доступны только физико-химические (входные) и сенсорные (выходные) переменные (например, нет данных о сортах винограда, марке вина, отпускной цене вина и т. д.).\n",
    "\n",
    "Эти наборы данных можно рассматривать как задачи классификации или регрессии. Классы упорядочены и не сбалансированы (например, нормальных вин намного больше, чем отличных или плохих). Алгоритмы обнаружения выбросов можно использовать для обнаружения нескольких отличных или плохих вин.\n",
    "\n",
    "Два набора данных были объединены, и несколько значений были удалены случайным образом. Входные данные\n",
    "\n",
    "0 - type - тип вина ( 'white', 'red')\n",
    "1 - fixed acidity - фиксированная кислотность\n",
    "2 - volatile acidity - летучая кислотность\n",
    "3 - citric acid - лимонная кислота\n",
    "4 - residual sugar - остаточный сахар\n",
    "5 - chlorides - хлориды\n",
    "6 - free sulfur dioxide - свободный диоксид серы\n",
    "7 - total sulfur dioxide - общий диоксид серы\n",
    "8 - density - плотность\n",
    "9 - pH\n",
    "10 - sulphates - сульфаты\n",
    "11 - alcohol - крепость Выходные данные (основаны на сенсорных данных, т. на субъективном восприятии дегустатора): 12 - quality (score between 0 and 10) - качество ( по шкале от 1 до 10)\n",
    "Понимание типов вина\n",
    "Красное вино изготавливается из темно-красного и черного винограда. Цвет обычно варьируется от различных оттенков красного, коричневого и фиолетового. Его производят из цельного винограда, включая кожицу, которая придает красным винам цвет и аромат, придавая им насыщенный вкус.\n",
    "\n",
    "Белое вино производится из белого винограда без кожуры и косточек. Цвет обычно соломенно-желтый, желто-зеленый или желто-золотой. Большинство белых вин имеют легкий и фруктовый вкус по сравнению с более насыщенными красными винами.\n",
    "\n",
    "Понимание атрибутов и свойств вина\n",
    "Кислотность\n",
    "Кислотность является одним из основных свойств вина и в значительной степени влияет на вкус вина. Кислотность в еде и напитках делает вкус терпким и пикантным. Кислотность на вкус также иногда путают с алкоголем. Вина с более высокой кислотностью кажутся более легкими, потому что они кажутся «пряными». Значительное снижение кислотности может привести к ухудшению вкуса вина. Если вы предпочитаете более богатое и округлое вино, вам понравится немного меньшая кислотность. Ощущение покалывания, которое концентрируется на передней и боковых частях языка. Если вы потрете языком нёбо, появится ощущение шероховатости. Ваш рот становится влажным, как будто вы откусили яблоко.\n",
    "\n",
    "Показатели, характеризующие кислотность\n",
    "фиксированная кислотность: фиксированные кислоты включают винную, яблочную, лимонную и янтарную кислоты, которые содержатся в винограде (кроме янтарной). Эта переменная обычно выражается в г(винной кислоты)/дм3.\n",
    "\n",
    "летучая кислотность: эти кислоты необходимо удалить из вина перед завершением производственного процесса. Он в основном состоит из уксусной кислоты, хотя могут также присутствовать и другие кислоты, такие как молочная, муравьиная и масляная кислоты. Избыток летучих кислот нежелателен и приводит к неприятному привкусу. В США юридические пределы летучей кислотности составляют 1,2 г/л для красного столового вина и 1,1 г/л для белого столового вина. Летучую кислотность выражают в г(уксусной кислоты)/дм3.\n",
    "\n",
    "лимонная кислота: Это одна из фиксированных кислот, которая придает вину свежесть. Обычно большая его часть расходуется в процессе брожения, а иногда добавляется отдельно, чтобы придать вину больше свежести. Обычно это выражается в г/дм3.\n",
    "\n",
    "pH: также известный как водородный потенциал. Это числовая шкала, позволяющая определить кислотность или основность вина. Фиксированная кислотность в наибольшей степени влияет на pH вина. Возможно, вы знаете, что растворы с pH менее 7 являются кислыми, а растворы с pH выше 7 — щелочными. Чистая вода с pH 7 нейтральна. Большинство вин имеют pH от 2,9 до 3,9 и поэтому являются кислыми.\n",
    "\n",
    "Сладость\n",
    "Насколько вино сладкое или сухое (не сладкое)? Наше человеческое восприятие сладкого начинается с кончика языка. Зачастую самое первое впечатление о вине — это его сладость. Чтобы попробовать сладкое, сосредоточьте свое внимание на вкусовых рецепторах на кончике языка. Ваши вкусовые рецепторы покалывают? Это показатель сладости. Многие сухие вина могут иметь легкую сладость, которая делает их более полнотелыми.\n",
    "\n",
    "Как почувствовать сладость вина\n",
    "Ощущение покалывания на кончике языка. Легкое ощущение маслянистости в середине языка, которое сохраняется. Вино имеет более высокую вязкость; вино медленно стекает по стеклу. (также показатель высокой крепости) Сухие красные вина, такие как Каберне Совиньон, часто содержат до 0,9 г/л остаточного сахара (обычно для дешевых вин). Сухое вино часто можно спутать с вином с высоким содержанием танинов.\n",
    "\n",
    "Мера сладости:\n",
    "остаточный сахар: обычно это относится к натуральному сахару из винограда, который остается после остановки или прекращения процесса ферментации. Обычно это выражается в г/дм3.\n",
    "\n",
    "Содержание солей\n",
    "Содержание солей не является распространенным в описании вина. То, что это также не является положительным моментом, вероятно, само собой разумеется. Но тот факт, что в странах-производителях вина естьустановленные законом максимальные значения содержания хлорида натрия в вине, должен вам о чем-то сказать. Засоленность является проблемой в засушливых регионах, где частое орошение увеличивает засоленность почвы, что увеличивает засоленность вина. Состав почвы часто не соответствует составу винограда так, как вы ожидаете; соль, к сожалению, является исключением.\n",
    "\n",
    "хлориды: концентрация хлоридов в вине зависит от терруара, и их самые высокие уровни наблюдаются в винах, происходящих из стран, где орошение осуществляется соленой водой или в районах с солоноватой местностью. Обычно это является основной причиной солености вина. Обычно выражается в г(хлорида натрия)/дм3.\n",
    "\n",
    "Сульфиты: химические соединения (диоксид серы или SO2), которые в той или иной степени присутствуют в природе во всех типах вина. Диоксид серы естественным образом содержится в винах и является побочным продуктом брожения, но большинство виноделов предпочитают добавлять его немного больше, чтобы предотвратить рост нежелательных дрожжей и микробов, а также для защиты от окисления.Это антиоксидант, сохраняющий вино свежим и незапятнанным кислородом.\n",
    "\n",
    "Было отмечено, что очень чувствительные дегустаторы чувствуют запах соединений серы в вине, хотя соединения серы несколько не связаны с сульфитами. Соединения серы в вине, называемые тиолами, варьируются по вкусу от цитрусовых до запахов приготовленных яиц.\n",
    "\n",
    "Интересно то, что чем теплее вино, тем больше молекулярной серы оно выделяет. Вот почему некоторые вина имеют неприятный аромат вареных яиц, когда их открываешь. Вы можете решить эту проблему, декантировав вино и охладив его примерно на 15–30 минут.\n",
    "\n",
    "Сколько серы в вине?\n",
    "Винам с более низкой кислотностью требуется больше сульфитов, чем винам с более высокой кислотностью. При pH 3,6 и выше вина гораздо менее стабильны, и для их хранения необходимы сульфиты. Винам с более ярким цветом (т. е. красным винам), как правило, требуется меньше сульфитов, чем прозрачным винам (т. е. белым винам). Типичное сухое белое вино может содержать около 100 мг/л, тогда как типичное сухое красное вино — около 50–75 мг/л. Винам с более высоким содержанием сахара, как правило, требуется больше сульфитов, чтобы предотвратить вторичное брожение оставшегося сахара. Вина с более высокой температурой выделяют свободные соединения серы (неприятный запах серы), и их можно «исправить» просто путем декантации и охлаждения вина.\n",
    "\n",
    "Мера содержания солей серы:\n",
    "Сульфаты: это минеральные соли, содержащие серу. Сульфаты для вина — то же самое, что глютен для еды. Они являются неотъемлемой частью виноделия во всем мире и считаются незаменимыми. Они связаны с процессом брожения и влияют на аромат и вкус вина. Здесь оно выражено в г(сульфат калия)/дм3.\n",
    "\n",
    "свободный диоксид серы: это часть диоксида серы, которая при добавлении в вино считается свободной после того, как оставшаяся часть связывается. Виноделы всегда будут стараться получить как можно большую долю свободной серы для связывания. Они также известны как сульфиты, и их слишком большое количество нежелательно и дает резкий запах. Эта переменная выражается в мг/дм3.\n",
    "\n",
    "Общий диоксид серы: это общая сумма связанного и свободного диоксида серы ( SO2 ). В основном его добавляют для уничтожения вредных бактерий и сохранения качества и свежести. Обычно существуют законодательные ограничения на содержание серы в винах, и ее избыток может даже убить хорошие дрожжи и вызвать нежелательный запах.Здесь это выражено в мг/дм3.\n",
    "\n",
    "лкоголь\n",
    "Спирт образуется в результате превращения дрожжами сахара в процессе брожения. Процент алкоголя может варьироваться от вина к вину. Мы интерпретируем алкоголь, используя множество различных вкусовых рецепторов, поэтому он может иметь одновременно горький, сладкий, пряный и маслянистый вкус. Ваша генетика на самом деле играет роль в том, насколько горький или сладкий вкус алкоголя. Тем не менее, мы все можем ощущать алкоголь в задней части рта, в горле, как ощущение тепла.\n",
    "\n",
    "Характеристики алкоголя:\n",
    "Вина с более высоким содержанием алкоголя имеют более насыщенный и маслянистый вкус. Вина с низким содержанием алкоголя имеют более легкий вкус. Алкогольная мера:обычно измеряется в объемных % или в спирте по объему (ABV).\n",
    "\n",
    "Тело\n",
    "Вам хочется легкого, среднего или полнотелого вина? Тело зависит от многих факторов: от сорта вина, его происхождения, урожая, уровня алкоголя и способа его производства. Тело — это снимок общего впечатления от вина. Вы можете улучшить свой навык, обращая внимание на то, где и когда он присутствует.\n",
    "\n",
    "Мера - Плотность: это можно представить как сравнение веса определенного объема вина с эквивалентным объемом воды. Обычно его используют как меру превращения сахара в спирт. Здесь это выражено в gcm3\n"
   ]
  },
  {
   "cell_type": "code",
   "execution_count": null,
   "id": "605d8c08",
   "metadata": {},
   "outputs": [],
   "source": [
    "df.head()"
   ]
  },
  {
   "cell_type": "markdown",
   "id": "6671e6f1",
   "metadata": {},
   "source": [
    "### 2.3. Explore Data (Изучение данных)"
   ]
  },
  {
   "cell_type": "code",
   "execution_count": null,
   "id": "6d258d40",
   "metadata": {},
   "outputs": [],
   "source": [
    "# Типы признаков, К-во пропусков\n",
    "df.info()"
   ]
  },
  {
   "cell_type": "code",
   "execution_count": null,
   "id": "dbdc66ec",
   "metadata": {},
   "outputs": [],
   "source": [
    "num_features_dict=dict()\n",
    "num_features_names = df.drop(columns=['type']).columns.tolist()\n",
    "for item in num_features_names:\n",
    "  num_features_dict[item] = item\n",
    "num_features_dict"
   ]
  },
  {
   "cell_type": "code",
   "execution_count": null,
   "id": "e1bd50cb",
   "metadata": {},
   "outputs": [],
   "source": [
    "# ключевая информация по признакам\n",
    "df.describe()"
   ]
  },
  {
   "cell_type": "code",
   "execution_count": null,
   "id": "f0fd28f7",
   "metadata": {},
   "outputs": [],
   "source": [
    "# Target - переменная quality : 7 классов, сильный дисбаланс классов\n",
    "df[\"quality\"].value_counts()"
   ]
  },
  {
   "cell_type": "code",
   "execution_count": null,
   "id": "f9cd8130",
   "metadata": {},
   "outputs": [],
   "source": [
    "# категориальный признак type - также дисбаланс\n",
    "df.groupby([\"type\"]).count()"
   ]
  },
  {
   "cell_type": "code",
   "execution_count": null,
   "id": "06b4dc57",
   "metadata": {},
   "outputs": [],
   "source": [
    "# Посмотрим отдельно на признаки для красного и белого вин\n",
    "df[df['type']=='red'].describe()"
   ]
  },
  {
   "cell_type": "code",
   "execution_count": null,
   "id": "650b7e0a",
   "metadata": {},
   "outputs": [],
   "source": [
    "df[df['type']=='white'].describe()"
   ]
  },
  {
   "cell_type": "markdown",
   "id": "61fa0c54",
   "metadata": {},
   "source": [
    "### Основные моменты из описательной статистики, приведенной выше:\n",
    "\n",
    "### Среднее содержание остаточного сахара и общего содержания диоксида серы в белом вине, по-видимому, намного выше, чем в красном вине.\n",
    "\n",
    "### Среднее значение сульфатов, фиксированной кислотности и летучей кислотности, по-видимому, выше в красном вине по сравнению с белым вином. Лимонной кислоты больше в белых винах, чем в красных. Как правило, в белых винах концентрация хлоридов вдвое меньше, чем в красных винах."
   ]
  },
  {
   "cell_type": "code",
   "execution_count": null,
   "id": "a37fc011",
   "metadata": {},
   "outputs": [],
   "source": [
    "# сформируем вектор признаков\n",
    "X = df.drop(columns=['type'])\n",
    "X.head()"
   ]
  },
  {
   "cell_type": "code",
   "execution_count": null,
   "id": "138f938d",
   "metadata": {},
   "outputs": [],
   "source": [
    "# Распределение\n",
    "draw_plot(X, num_features_dict, 'distplot')"
   ]
  },
  {
   "cell_type": "code",
   "execution_count": null,
   "id": "66e1c7b5",
   "metadata": {},
   "outputs": [],
   "source": [
    "# выбросы\n",
    "draw_plot(X, num_features_dict, 'boxplot')"
   ]
  },
  {
   "cell_type": "code",
   "execution_count": null,
   "id": "284c249b",
   "metadata": {},
   "outputs": [],
   "source": [
    "draw_plot(X, num_features_dict, 'qqplot')"
   ]
  },
  {
   "cell_type": "code",
   "execution_count": null,
   "id": "7b544461",
   "metadata": {},
   "outputs": [],
   "source": [
    "shapiro_test(df, num_features_dict.keys())"
   ]
  },
  {
   "cell_type": "code",
   "execution_count": null,
   "id": "b0ddcef3",
   "metadata": {},
   "outputs": [],
   "source": [
    "# Гипотеза: Субклассы по оценкам внутри красных и белых вин также различны и несбалансированы\n",
    "plot_bar(df, var='quality', title='Wine Type Vs Quality', axes_titles=['Red Wine', 'White Vine'], x_label_title='Quality',\n",
    "             y_label_title='Frtquency', colors=['red', 'white'])"
   ]
  },
  {
   "cell_type": "markdown",
   "id": "d5a5f5a4",
   "metadata": {},
   "source": [
    "### И среди красных, и среди белых вин доля вин высокого качества очень невелика. Зато среди белых вин примерно поровну продукции низкого и среднего качества, а среди красных продукции низкого качества почти вдвое меньше, чем среднего"
   ]
  },
  {
   "cell_type": "code",
   "execution_count": null,
   "id": "5d1be02e",
   "metadata": {},
   "outputs": [],
   "source": [
    "# гипотеза: Зависимости качества красных вин и белых вин от физико-химических характеристик также различны\n",
    "# Разбиваем датасет на 2 - red и white\n",
    "red = df[df['type']=='red']\n",
    "white = df[df['type']=='white']"
   ]
  },
  {
   "cell_type": "markdown",
   "id": "6158391d",
   "metadata": {},
   "source": [
    "### Тепловая карта корреляции позволит оценить важность признаков. построим 3 таких карты - для всего датасета и отдельно для красных и белых вин"
   ]
  },
  {
   "cell_type": "code",
   "execution_count": null,
   "id": "25887a8a",
   "metadata": {},
   "outputs": [],
   "source": [
    "# карта корреляции для всего датасета\n",
    "plot_correlation_map(df)"
   ]
  },
  {
   "cell_type": "markdown",
   "id": "32c22e9b",
   "metadata": {},
   "source": [
    "### Наибольшую корреляцию с target имеют признаки: alcohol, density,volatile_acidity, clorides, Ph"
   ]
  },
  {
   "cell_type": "code",
   "execution_count": null,
   "id": "212ae869",
   "metadata": {},
   "outputs": [],
   "source": [
    "# Карта корреляции для красных вин\n",
    "plot_correlation_map(red)"
   ]
  },
  {
   "cell_type": "markdown",
   "id": "aac103ac",
   "metadata": {},
   "source": [
    "### Наибольшую корреляцию с target имеют признаки: alcohol, volatile_acidity,density, sulphates, citric acid, total_sulphur dioxides"
   ]
  },
  {
   "cell_type": "code",
   "execution_count": null,
   "id": "b316c9a0",
   "metadata": {},
   "outputs": [],
   "source": [
    "# Карта корреляции для белых вин\n",
    "plot_correlation_map(white)"
   ]
  },
  {
   "cell_type": "markdown",
   "id": "b683d2b3",
   "metadata": {},
   "source": [
    "Наибольшую корреляцию с target имеют признаки: alcohol, density, sulphates, cvolatile_acidity, total_sulphur dioxides"
   ]
  },
  {
   "cell_type": "markdown",
   "id": "7044882f",
   "metadata": {},
   "source": [
    "Рассмотрим подробнее взаимосвязь между признаками и качеством вина (отдельно для red и white)"
   ]
  },
  {
   "cell_type": "code",
   "execution_count": null,
   "id": "c589ab27",
   "metadata": {},
   "outputs": [],
   "source": [
    "# Красные вина: Наибольшую корреляцию с target имеют признаки: alcohol, volatile acidity,density, sulphates, citric acid, total_sulphur dioxides\n",
    "plot_distribution(df, var='alcohol', target='quality', row='type')"
   ]
  },
  {
   "cell_type": "markdown",
   "id": "12f3ae1c",
   "metadata": {},
   "source": [
    "в более качественных белых винах при одинаковой с красными плотности содержании алкоголя выше. Вина с классом качества 5 имеют максимальную плотность и примерно равный процент алкоголя"
   ]
  },
  {
   "cell_type": "code",
   "execution_count": null,
   "id": "db728d8e",
   "metadata": {},
   "outputs": [],
   "source": [
    "plot_distribution(df, var='volatile acidity', target='quality', row='type')"
   ]
  },
  {
   "cell_type": "markdown",
   "id": "b16fadf8",
   "metadata": {},
   "source": [
    "Красные вина в целом более плотные, чем белые"
   ]
  },
  {
   "cell_type": "code",
   "execution_count": null,
   "id": "5b0cead1",
   "metadata": {},
   "outputs": [],
   "source": [
    "plot_distribution(df, var='chlorides', target='quality', row='type')"
   ]
  },
  {
   "cell_type": "markdown",
   "id": "4f450106",
   "metadata": {},
   "source": [
    "В красных винах при равной плотности с белыми большее содержание хлоридов"
   ]
  },
  {
   "cell_type": "code",
   "execution_count": null,
   "id": "71b138bb",
   "metadata": {},
   "outputs": [],
   "source": [
    "plot_distribution(df, var='pH', target='quality', row='type')"
   ]
  },
  {
   "cell_type": "code",
   "execution_count": null,
   "id": "70b97b69",
   "metadata": {},
   "outputs": [],
   "source": [
    "plot_distribution(df, var='sulphates', target='quality', row='type')"
   ]
  },
  {
   "cell_type": "markdown",
   "id": "ea3ef2c2",
   "metadata": {},
   "source": [
    "Выводы по разделу: Классы упорядочены и не сбалансированы (например, нормальных вин (среднего качества) намного больше, чем отличных или плохих). Для обнаружения супер отличных или супер плохих вин можно использовать алгоритмы обнаружения выбросов. Пока нет уверенности, что все имеющиеся признаки влияют на конечный результат. Поэтому при низком качестве модели,пгостроенной на всех признаках, планируется использовать методы отбора признаков"
   ]
  },
  {
   "cell_type": "markdown",
   "id": "67e90ea4",
   "metadata": {},
   "source": [
    "## Inference statistics"
   ]
  },
  {
   "cell_type": "markdown",
   "id": "b3a557a2",
   "metadata": {},
   "source": [
    "Общее понятие инференциальной статистики состоит в том, чтобы сделать выводы и предположения о популяции, используя выборку данных. Идея состоит в том, чтобы использовать статистические методы и модели для получения статистических выводов из заданных гипотез. Каждая гипотеза состоит из нулевой гипотезы H0 и альтернативной гипотезы HA. На основании результатов статистического теста, если результат статистически значим на основе заранее установленных уровней значимости (например, если полученное значение p составляет менее 5% уровня значимости), мы отклоняем нулевую гипотезу в пользу альтернативной гипотезы. В противном случае, если результаты не являются статистически значимыми, мы приходим к выводу, что наша нулевая гипотеза верна.\n",
    "\n",
    "Отличной статистической моделью, позволяющей доказать или опровергнуть разницу в средних значениях между подмножествами данных, является использование однофакторного теста ANOVA для анализа статистически значимых различий между средними значениями различных групп.\n",
    "\n",
    "Альтернативная гипотеза, HA, говорит нам, что существуют как минимум два групповых средних, которые статистически значимо отличаются друг от друга. Обычно для определения статистической значимости используется F-статистика и связанное с ней значение p. Обычно значение p менее 0,05 считается статистически значимым результатом, когда мы отвергаем нулевую гипотезу в пользу исходной."
   ]
  },
  {
   "cell_type": "code",
   "execution_count": null,
   "id": "8da79542",
   "metadata": {},
   "outputs": [],
   "source": [
    "print('ANOVA test across wine samples with different types:\\n')\n",
    "# - Mean residual sugar and total sulfur dioxide content in white wine seems to be much higher than red wine.\n",
    "type_inf_stat_test('residual sugar', df)\n",
    "type_inf_stat_test('total sulfur dioxide', df)\n",
    "#- Mean value of sulphates, fixed acidity and volatile acidity seem to be higher in red wine as compared to white wine.\n",
    "type_inf_stat_test('sulphates', df)\n",
    "type_inf_stat_test('fixed acidity', df)\n",
    "type_inf_stat_test('volatile acidity', df)\n",
    "#- From all numbers, we can observe that citric acid is more present in white than red wines.\n",
    "type_inf_stat_test('citric acid', df)\n",
    "#- In general, white wines has half concentrations of chlorides then red wines.\n",
    "type_inf_stat_test('chlorides', df)\n",
    "#- Although in Ph the difference seems small it is interesting to note that it is slightly larger in green red wines.\n",
    "type_inf_stat_test('pH', df)"
   ]
  },
  {
   "cell_type": "markdown",
   "id": "d14c1b6e",
   "metadata": {},
   "source": [
    "Проверка выявила, что статистически значимым являются тольо различия в уровне total sulfur dioxide"
   ]
  },
  {
   "cell_type": "code",
   "execution_count": null,
   "id": "0890a067",
   "metadata": {},
   "outputs": [],
   "source": [
    "f, ax = plt.subplots(1, 1, figsize=(14, 4))\n",
    "f.suptitle('Wine Type - Quality - Alcohol Content', fontsize=14)\n",
    "\n",
    "sns.boxplot(x='quality', y='alcohol', hue='type', data=df, palette={\"red\": \"#FF9999\", \"white\": \"white\"}, ax=ax)\n",
    "ax.set_xlabel(\"Wine Quality\",size = 12,alpha=0.8)\n",
    "ax.set_ylabel(\"Wine Alcohol %\",size = 12,alpha=0.8)\n",
    "\n",
    "plt.show()"
   ]
  },
  {
   "cell_type": "markdown",
   "id": "c23790d3",
   "metadata": {},
   "source": [
    "2.4. Verify data quality (Проверка качества данных)"
   ]
  },
  {
   "cell_type": "code",
   "execution_count": null,
   "id": "d654c43e",
   "metadata": {},
   "outputs": [],
   "source": [
    "#Get the numbers of Null values in columns, in descending order.\n",
    "print('Пропуски:')\n",
    "df.isna().sum().sort_values(ascending=False).head(9)"
   ]
  },
  {
   "cell_type": "markdown",
   "id": "1075ff1b",
   "metadata": {},
   "source": [
    "## 3. Data Preparation (Подготовка данных)"
   ]
  },
  {
   "cell_type": "markdown",
   "id": "9b56afc1",
   "metadata": {},
   "source": [
    "### 3.1. Select data (Выборка данных)"
   ]
  },
  {
   "cell_type": "code",
   "execution_count": null,
   "id": "3bd5dc1b",
   "metadata": {},
   "outputs": [],
   "source": [
    "d = df[(pd.isnull(df['fixed acidity'])|\n",
    "        pd.isnull(df['pH'])|\n",
    "        pd.isnull(df['volatile acidity'])|\n",
    "        pd.isnull(df['sulphates'])|\n",
    "        pd.isnull(df['citric acid'])|\n",
    "        pd.isnull(df['residual sugar'])|\n",
    "        pd.isnull(df['chlorides']))\n",
    "        ]\n",
    "print(f\"\"\"% данных, удаляемый при удалении пропусков:\n",
    "{len(d)/df.shape[0]*100}\"\"\")"
   ]
  },
  {
   "cell_type": "code",
   "execution_count": null,
   "id": "d8d52790",
   "metadata": {},
   "outputs": [],
   "source": [
    "# Пропуски можно удалить\n",
    "df = df[~(pd.isnull(df['fixed acidity'])|\n",
    "        pd.isnull(df['pH'])|\n",
    "        pd.isnull(df['volatile acidity'])|\n",
    "        pd.isnull(df['sulphates'])|\n",
    "        pd.isnull(df['citric acid'])|\n",
    "        pd.isnull(df['residual sugar'])|\n",
    "        pd.isnull(df['chlorides']))\n",
    "        ]"
   ]
  },
  {
   "cell_type": "markdown",
   "id": "6c74b0dc",
   "metadata": {},
   "source": [
    "### 3.2. Clean Data ( Очистка данных)"
   ]
  },
  {
   "cell_type": "code",
   "execution_count": null,
   "id": "28c21f6c",
   "metadata": {},
   "outputs": [],
   "source": [
    "# Drop duplicates\n",
    "df.drop_duplicates(inplace=True)"
   ]
  },
  {
   "cell_type": "markdown",
   "id": "a4199de9",
   "metadata": {},
   "source": [
    "### Фуннкция для очистки данных clean_data()"
   ]
  },
  {
   "cell_type": "code",
   "execution_count": null,
   "id": "71a71c29",
   "metadata": {},
   "outputs": [],
   "source": [
    "df=clean_data(df)"
   ]
  },
  {
   "cell_type": "markdown",
   "id": "d5f6e010",
   "metadata": {},
   "source": [
    "### 3.3 Construct data (Конструирование данных)"
   ]
  },
  {
   "cell_type": "code",
   "execution_count": null,
   "id": "c17934f3",
   "metadata": {},
   "outputs": [],
   "source": [
    "# Замена категориальной переменной type (тип вина) на числовую (0 и 1)\n",
    "replace_dict = {'red':0, 'white':1}\n",
    "df['type'] =df['type'].map(replace_dict)"
   ]
  },
  {
   "cell_type": "code",
   "execution_count": null,
   "id": "fcf56812",
   "metadata": {},
   "outputs": [],
   "source": [
    "numeric_features = df.drop(columns=['type', 'quality']).columns.tolist()\n",
    "numeric_features"
   ]
  },
  {
   "cell_type": "markdown",
   "id": "8151dfa9",
   "metadata": {},
   "source": [
    "### Согласно диаграммам квантиль-квантиль, тесту Шапиро и гистограммам распределения признаков, нормализации следует подвергнуть free sulfur dioxide, total sulfur dioxide,density,alcohol, quality"
   ]
  },
  {
   "cell_type": "code",
   "execution_count": null,
   "id": "5f1c8086",
   "metadata": {},
   "outputs": [],
   "source": [
    "X = df[numeric_features]"
   ]
  },
  {
   "cell_type": "code",
   "execution_count": null,
   "id": "179e4558",
   "metadata": {},
   "outputs": [],
   "source": [
    "get_transform(X, numeric_features)"
   ]
  },
  {
   "cell_type": "markdown",
   "id": "7762e623",
   "metadata": {},
   "source": [
    "Для большинства признаков удовлетворительной трансформацией видится QuantileTransformer(output_distribution=\"normal\")."
   ]
  },
  {
   "cell_type": "markdown",
   "id": "bcb757cb",
   "metadata": {},
   "source": [
    "## 3.4. Integrate Data ( Интеграция данных)"
   ]
  },
  {
   "cell_type": "code",
   "execution_count": null,
   "id": "58a86caf",
   "metadata": {},
   "outputs": [],
   "source": [
    "# Сильный дисбаланс классов типа вина в выборке\n",
    "df['type'].value_counts()"
   ]
  },
  {
   "cell_type": "code",
   "execution_count": null,
   "id": "92067bf2",
   "metadata": {},
   "outputs": [],
   "source": [
    "y = df['type']"
   ]
  },
  {
   "cell_type": "code",
   "execution_count": null,
   "id": "f67ee686",
   "metadata": {},
   "outputs": [],
   "source": [
    "X_reg = pd.concat([X,y], axis=1)"
   ]
  },
  {
   "cell_type": "code",
   "execution_count": null,
   "id": "4f75fbfa",
   "metadata": {},
   "outputs": [],
   "source": [
    "y_reg = df['quality']"
   ]
  },
  {
   "cell_type": "code",
   "execution_count": null,
   "id": "49311dd0",
   "metadata": {},
   "outputs": [],
   "source": [
    "# для устранения дисюаланса  при бинарной классификации используем библиотеку SMOTE\n",
    "sm = SMOTE(random_state=42, k_neighbors=4)\n",
    "X, y = sm.fit_resample(X, y)\n",
    "\n",
    "y_tmp = y.to_frame()\n",
    "\n",
    "data=pd.concat([X,y_tmp], axis=1) # Новый датафрейм после оверсэмплинга. Дальше работаем с ним\n",
    "data.head()"
   ]
  },
  {
   "cell_type": "code",
   "execution_count": null,
   "id": "72343106",
   "metadata": {},
   "outputs": [],
   "source": [
    "X_reg, y_reg = sm.fit_resample(X_reg, y_reg)\n",
    "y_tmp_reg = y_reg.to_frame()\n",
    "data_reg=pd.concat([X_reg,y_tmp_reg], axis=1) # Новый датафрейм для регрессии после оверсэмплинга. Дальше работаем с ним\n",
    "data_reg.head()"
   ]
  },
  {
   "cell_type": "markdown",
   "id": "cfbd073f",
   "metadata": {},
   "source": [
    "### 3.5. Format data (Форматирование данных)"
   ]
  },
  {
   "cell_type": "markdown",
   "id": "7e344ab3",
   "metadata": {},
   "source": [
    "# 4. Modeling (Моделирование)"
   ]
  },
  {
   "cell_type": "markdown",
   "id": "622d2fb5",
   "metadata": {},
   "source": [
    "### 4.1. Select Modelling techniques (Выбор алгоритмов)"
   ]
  },
  {
   "cell_type": "markdown",
   "id": "c98abaa0",
   "metadata": {},
   "source": [
    "Фактически на данном датсете мы решаем две различные задачи.\n",
    "\n",
    "Первая - построение модели классификации вина по типу (red, white) в зависимости от значений физико-химических показателей. Эта модель нужна, во-первых, для заполнения возможных пропусков в столбце 'type' и , во-вторых, можерт пригодиться для проверки типа вина в закрытой таре при наличии сопроводительной документации с физико-химичексими характериастиками. Первую задачу можно решать, выбирая различные модели классификации. В качестве базовой выберем RandomForestClassifier, При получении неудовлетворительных результатов будут рассмотрены другие варианты вплоть до ансамблевых алгоритмов и нейросетей. Далее можно использовать гиперпараметризацию, перекрестную проверку и сравнивать результаты различных метрик.\n",
    "\n",
    "Вторая - это прогнозирование оценки вина по 10-балльной шкале в зависимости от значения физико-химических показателей и типа вина. Эту задачу можно решать как регрессию (определение балла вина) или как мультиклассовую классификацию ( опеделению принадлежности к одному из классов)\n",
    "\n",
    "Более того,и первую, и вторую задачи можн решить в рамках одной модели с несколькими выходами. Действительно, входные данные же - одни и те же!"
   ]
  },
  {
   "cell_type": "markdown",
   "id": "87646e63",
   "metadata": {},
   "source": [
    "### 4.2. Generate Test Design (Подготовка плана тестирования)"
   ]
  },
  {
   "cell_type": "markdown",
   "id": "5c425199",
   "metadata": {},
   "source": [
    "### 4.3. Build Model (Создание и обучение модели)"
   ]
  },
  {
   "cell_type": "code",
   "execution_count": null,
   "id": "3fa49c4c",
   "metadata": {},
   "outputs": [],
   "source": [
    "def train_model(df,random_seed,  model):\n",
    "  \"\"\"\n",
    "  Служебная функция. выполняет:\n",
    "    - разделение на Train и test\n",
    "    - обучение модели\n",
    "    df- датафрейм, random_seed - фиксатор генератора случ.чисел,\n",
    "    model - модель классификатора,\n",
    "  \"\"\"\n",
    "\n",
    "\n",
    "  X = df.drop(columns=['type'])\n",
    "  y = df['type']\n",
    "  X_train, X_test, y_train, y_test = train_test_split(X, y, test_size=0.2, random_state=random_seed)\n",
    "\n",
    "  rf = model\n",
    "  rf.fit(X_train, y_train)\n",
    "\n",
    "  return X,y, X_test, y_test, rf"
   ]
  },
  {
   "cell_type": "code",
   "execution_count": null,
   "id": "b40c88c9",
   "metadata": {},
   "outputs": [],
   "source": [
    "X, y, X_test, y_test, rf = train_model(data, 42,  RandomForestClassifier(criterion='entropy',random_state=42))"
   ]
  },
  {
   "cell_type": "code",
   "execution_count": null,
   "id": "62faa3a8",
   "metadata": {},
   "outputs": [],
   "source": [
    "results = dict()"
   ]
  },
  {
   "cell_type": "code",
   "execution_count": null,
   "id": "873db41e",
   "metadata": {},
   "outputs": [],
   "source": [
    "def eval_model(X, y, X_test, y_test, random_seed, model, flag):\n",
    "  \"\"\"\n",
    "  Служебная функция. выполняет:\n",
    "    - расчет метрик качества модели бинарной классификации вина по типу в виде classification_report\n",
    "    - построение confusion matrix\n",
    "    - кросс-валидацию модели\n",
    "    args:\n",
    "    X: pd.DataFrame - датафрейм признаков,\n",
    "    y: np.ndarray - массив целевой переменной,\n",
    "    X_test: pd.DataFrame - тестовый датафрейм\n",
    "    y_test: np.ndarray - тестовый массив целевой переменной,\n",
    "    random_seed - фиксатор генератора случ.чисел,\n",
    "    model - модель классификатора,\n",
    "    flag - признак печати результатов (True/False)\n",
    "  \"\"\"\n",
    "  num_folds = 9\n",
    "  scoring = 'r2'\n",
    "\n",
    "  kfold = StratifiedKFold(n_splits=num_folds, random_state=random_seed, shuffle=True)\n",
    "\n",
    "\n",
    "  y_pred = model.predict(X_test)\n",
    "  target_names = ['red', 'white']\n",
    "  # Отчет полностью\n",
    "  report = classification_report(y_test, y_pred, target_names=target_names, output_dict=True )\n",
    "  a = report['accuracy']\n",
    "  scoring = ['precision_macro', 'recall_macro']\n",
    "  cv_results = cross_validate(model, X, y, cv=kfold, scoring=scoring)\n",
    "  if flag:\n",
    "    print(\n",
    "      \"Classification report\\n\")\n",
    "    print(\n",
    "      f\"{classification_report(y_test, y_pred, target_names=target_names)}\\n\"\n",
    "    )\n",
    "    # Confusion matrix\n",
    "    fig, ax = plt.subplots(figsize=(6, 3))\n",
    "\n",
    "    cm = confusion_matrix(y_test, y_pred)\n",
    "    cmp = ConfusionMatrixDisplay(cm, display_labels=target_names)\n",
    "    cmp.plot(ax=ax, xticks_rotation='vertical')\n",
    "    plt.show()\n",
    "\n",
    "\n",
    "  return cv_results"
   ]
  },
  {
   "cell_type": "code",
   "execution_count": null,
   "id": "5f9e8af9",
   "metadata": {},
   "outputs": [],
   "source": [
    "results['baseline'] = eval_model(X, y, X_test, y_test, 42, rf, flag=True)"
   ]
  },
  {
   "cell_type": "code",
   "execution_count": null,
   "id": "c7efb4b5",
   "metadata": {},
   "outputs": [],
   "source": [
    "# Оценка важности признаков для бинарной классификации вина по типу с использованием RandomForestClassifier\n",
    "plot_model_var_imp(rf, X, y_tmp)"
   ]
  },
  {
   "cell_type": "markdown",
   "id": "4ce65e63",
   "metadata": {},
   "source": [
    "Метрики классификатора - хорошие, совершенствовать его нет необходимости, тип вина предсказывается с точностью 99%. Таким образом, у нас ест модель для заполнения пропусков в поле type в случае, если они появятся, и если будет необходимо определить тип вина в закрытой таре, снабженной биркой со значениями физико-химических характеристик"
   ]
  }
 ],
 "metadata": {
  "kernelspec": {
   "display_name": "Python 3 (ipykernel)",
   "language": "python",
   "name": "python3"
  },
  "language_info": {
   "codemirror_mode": {
    "name": "ipython",
    "version": 3
   },
   "file_extension": ".py",
   "mimetype": "text/x-python",
   "name": "python",
   "nbconvert_exporter": "python",
   "pygments_lexer": "ipython3",
   "version": "3.10.9"
  }
 },
 "nbformat": 4,
 "nbformat_minor": 5
}
